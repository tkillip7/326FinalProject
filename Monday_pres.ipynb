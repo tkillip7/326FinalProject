{
 "cells": [
  {
   "cell_type": "code",
   "execution_count": null,
   "id": "efaf5ad0-ee79-4a67-bf63-47aa8cbfb1aa",
   "metadata": {},
   "outputs": [],
   "source": [
    "yo"
   ]
  }
 ],
 "metadata": {
  "kernelspec": {
   "display_name": "Python 3 (ipykernel)",
   "language": "python",
   "name": "python3"
  },
  "language_info": {
   "name": ""
  }
 },
 "nbformat": 4,
 "nbformat_minor": 5
}
