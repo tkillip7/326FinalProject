{
 "cells": [
  {
   "cell_type": "markdown",
   "id": "0fcfa563-a5fd-4d21-855d-fd40fcb957cd",
   "metadata": {},
   "source": [
    "TEAM football\n",
    "\n",
    "INST326 (0101)\n",
    "\n",
    "Monday Project Presentation\n"
   ]
  },
  {
   "cell_type": "code",
   "execution_count": 103,
   "id": "36305e12-2b81-4506-bac6-deffe2d40adf",
   "metadata": {},
   "outputs": [],
   "source": [
    "import re\n",
    "import random\n",
    "regex = (r\"\"\"(?xm)\n",
    "            ^\n",
    "            (?P<dex_Id>[\\d+])\n",
    "            , \n",
    "            (?P<move_name>[\\w]+?[ \\w]+)\n",
    "            ,\n",
    "            (?P<type>[\\w]+)\n",
    "            ,\n",
    "            (?P<power>[\\d]+)\n",
    "            ,\n",
    "            (?P<accuracy>[\\d]+)\"\"\")\n",
    " "
   ]
  },
  {
   "cell_type": "code",
   "execution_count": 104,
   "id": "9cc24771-e869-4127-b9dd-9193925266ba",
   "metadata": {},
   "outputs": [
    {
     "data": {
      "text/plain": [
       "['3,Tackle,Normal,40,100',\n",
       " '3,Razor Leaf,Grass,55,95',\n",
       " '3,Sludge Bomb,Poison,90,100',\n",
       " '3,Petal Dance,Grass,120,100',\n",
       " '6,Flamethrower,Fire,90,100',\n",
       " '6,Air Slash,Flying,75,95',\n",
       " '6,Seismic Toss,Fighting,60,100',\n",
       " '6,Slash,Normal,70,100',\n",
       " '9,Rapid Spin,Normal,50,100',\n",
       " '9,Ice Beam,Ice,90,100',\n",
       " '9,Hydro Pump,Water,110,80',\n",
       " '9,Aqua Tail,Water,90,90']"
      ]
     },
     "execution_count": 104,
     "metadata": {},
     "output_type": "execute_result"
    }
   ],
   "source": [
    "#pokemon file is read\n",
    "r = \"Pokemon_Moves.csv\"\n",
    "        \n",
    "new_list = []\n",
    "with open(r, \"r\", encoding=\"utf-8\") as f:   \n",
    "    new_list = [(line.strip(\"\\n\")) for line in f]\n",
    "\n",
    "new_list.remove(\"Dex_ID,Move_Name,Type,Power,Accuracy\")\n",
    "new_list\n"
   ]
  },
  {
   "cell_type": "code",
   "execution_count": 128,
   "id": "74ad50ef-0df6-461c-b17c-1fa0886acf1e",
   "metadata": {},
   "outputs": [
    {
     "name": "stdout",
     "output_type": "stream",
     "text": [
      "{'tackle': ('normal', 40, 100), 'razor leaf': ('grass', 55, 95), 'sludge bomb': ('poison', 90, 100), 'petal dance': ('grass', 120, 100)}\n",
      "\n",
      "\n",
      "{3: {'tackle': ('normal', 40, 100), 'razor leaf': ('grass', 55, 95), 'sludge bomb': ('poison', 90, 100), 'petal dance': ('grass', 120, 100)}, 6: {'flamethrower': ('fire', 90, 100), 'air slash': ('flying', 75, 95), 'seismic toss': ('fighting', 60, 100), 'slash': ('normal', 70, 100)}, 9: {'rapid spin': ('normal', 50, 100), 'ice beam': ('ice', 90, 100), 'hydro pump': ('water', 110, 80), 'aqua tail': ('water', 90, 90)}}\n",
      "\n",
      "\n",
      "{'tackle': ('normal', 40, 100), 'razor leaf': ('grass', 55, 95), 'sludge bomb': ('poison', 90, 100), 'petal dance': ('grass', 120, 100)}\n",
      "('normal', 40, 100)\n",
      "damage = 40\n"
     ]
    }
   ],
   "source": [
    "#assignments are made\n",
    "dict_3 = {}\n",
    "dict_6 = {}\n",
    "dict_9 = {}\n",
    "\n",
    "for i in new_list:\n",
    "    \n",
    "    moves_attributes = re.search(regex, i)\n",
    "    \n",
    "    if  moves_attributes == None:\n",
    "            raise ValueError(\"The address string could not be parsed.\")\n",
    "    else:\n",
    "        \n",
    "        dex_id = int(moves_attributes.group(1))\n",
    "\n",
    "        move = (moves_attributes.group(2)).lower()\n",
    "\n",
    "        type = (moves_attributes.group(3)).lower()\n",
    "\n",
    "        power = int(moves_attributes.group(4))\n",
    "\n",
    "        accuracy = int(moves_attributes.group(5))\n",
    "        \n",
    "        if dex_id == 3:\n",
    "            dict_3[f\"{move}\"] = (type,power,accuracy)\n",
    "        elif dex_id == 6:\n",
    "            dict_6[f\"{move}\"] = (type,power,accuracy)\n",
    "        elif dex_id == 9:\n",
    "            dict_9[f\"{move}\"] = (type,power,accuracy)\n",
    "print(dict_3)\n",
    "print(\"\\n\")\n",
    "# print(dict_6)\n",
    "# print(\"\\n\")\n",
    "# print(dict_9)\n",
    "# print(\"\\n\")\n",
    "moves_dict = {3:dict_3, 6:dict_6, 9:dict_9}\n",
    "print(moves_dict)\n",
    "print(\"\\n\")\n",
    "print(moves_dict[3])\n",
    "print((moves_dict[3])[\"tackle\"])\n",
    "damage = ((moves_dict[3])[\"tackle\"])[1]\n",
    "print(F\"damage = {damage}\")"
   ]
  },
  {
   "cell_type": "code",
   "execution_count": null,
   "id": "83d85a19-dcf8-4b4b-ba67-eab2e92fd12f",
   "metadata": {},
   "outputs": [
    {
     "name": "stdout",
     "output_type": "stream",
     "text": [
      "Name: Sceptile, Dex_id: 254, Type1: Grass, Type2: None, Hp: 70, Atk: 85, Def: 65, Spe: 120\n",
      "Name: Swampert, Dex_id: 260, Type1: Water, Type2: Ground, Hp: 100, Atk: 110, Def: 90, Spe: 60\n"
     ]
    }
   ],
   "source": [
    "#test to see which pokemon was choosen\n",
    "#print(pokemon_p)\n",
    "#print(pokemon_c)"
   ]
  }
 ],
 "metadata": {
  "kernelspec": {
   "display_name": "Python 3 (ipykernel)",
   "language": "python",
   "name": "python3"
  },
  "language_info": {
   "codemirror_mode": {
    "name": "ipython",
    "version": 3
   },
   "file_extension": ".py",
   "mimetype": "text/x-python",
   "name": "python",
   "nbconvert_exporter": "python",
   "pygments_lexer": "ipython3",
   "version": "3.8.9"
  }
 },
 "nbformat": 4,
 "nbformat_minor": 5
}
