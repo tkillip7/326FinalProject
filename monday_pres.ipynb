{
 "cells": [
  {
   "cell_type": "markdown",
   "id": "0fcfa563-a5fd-4d21-855d-fd40fcb957cd",
   "metadata": {},
   "source": [
    "TEAM football\n",
    "\n",
    "INST326 (0101)\n",
    "\n",
    "Monday Project Presentation\n"
   ]
  },
  {
   "cell_type": "code",
   "execution_count": 32,
   "id": "36305e12-2b81-4506-bac6-deffe2d40adf",
   "metadata": {},
   "outputs": [],
   "source": [
    "import re\n",
    "import random\n",
    "regex = (r\"\"\"(?xm)\n",
    "        ^\\w+:\\s\n",
    "        (?P<Pokemon_name>[\\w]+)\n",
    "        ,\\s\\w+:\\s\n",
    "        (?P<Dex_id>[\\d]+)\n",
    "        ,\\s\\w+:\\s\n",
    "        (?P<Type1>[\\w]+)\n",
    "        ,\\s\\w+:\\s\n",
    "        (?P<Type2>[\\w]+)\n",
    "        ,\\s\\w+:\\s\n",
    "        (?P<Hp>[\\d]+)\n",
    "        ,\\s\\w+:\\s\n",
    "        (?P<Atk>[\\d]+)\n",
    "        ,\\s\\w+:\\s\n",
    "        (?P<Def>[\\d]+)\n",
    "        ,\\s\\w+:\\s\n",
    "        (?P<Spe>[\\d]+)\"\"\")\n",
    " "
   ]
  },
  {
   "cell_type": "code",
   "execution_count": 33,
   "id": "9cc24771-e869-4127-b9dd-9193925266ba",
   "metadata": {},
   "outputs": [],
   "source": [
    "#pokemon file is read\n",
    "r = \"Pokemon_list.txt\"\n",
    "new_list = []\n",
    "with open(r, \"r\", encoding=\"utf-8\") as f:   \n",
    "    new_list = [(line.strip('\\n')) for line in f]\n",
    "    "
   ]
  },
  {
   "cell_type": "code",
   "execution_count": 34,
   "id": "3a9f3516",
   "metadata": {},
   "outputs": [],
   "source": [
    "#player chooses pokemon\n",
    "p_choice= int(input(\"Which pockemon:\"))\n",
    "\n",
    "#computer \n",
    "c_choice= random.randrange(10)\n"
   ]
  },
  {
   "cell_type": "code",
   "execution_count": 35,
   "id": "74ad50ef-0df6-461c-b17c-1fa0886acf1e",
   "metadata": {},
   "outputs": [],
   "source": [
    "#player chooses pokemon\n",
    "\n",
    "match = re.search(regex, str(new_list[p_choice]))\n",
    "\n",
    "pokemon_attributes = re.search(regex, str(new_list[p_choice]))\n",
    "\n",
    "#assignments are made\n",
    "pokemon_p = pokemon_attributes.group(0)\n",
    "\n",
    "pokemon_name = pokemon_attributes.group(1)\n",
    "\n",
    "dex_id = pokemon_attributes.group(2)\n",
    "\n",
    "type1 = pokemon_attributes.group(3)\n",
    "\n",
    "type2 = pokemon_attributes.group(4)\n",
    "\n",
    "hp = pokemon_attributes.group(5)\n",
    "\n",
    "attack = pokemon_attributes.group(6)\n",
    "\n",
    "defense = pokemon_attributes.group(7)\n",
    "\n",
    "speed = pokemon_attributes.group(8)\n",
    "\n",
    "#---------------------\n",
    "\n",
    "#computer's choosen pokemon\n",
    "\n",
    "match = re.search(regex, str(new_list[c_choice]))\n",
    "\n",
    "pokemon_attributes = re.search(regex, str(new_list[c_choice]))\n",
    "\n",
    "pokemon_c = pokemon_attributes.group(0)\n",
    "\n",
    "pokemon_name = pokemon_attributes.group(1)\n",
    "\n",
    "dex_id = pokemon_attributes.group(2)\n",
    "\n",
    "type1 = pokemon_attributes.group(3)\n",
    "\n",
    "type2 = pokemon_attributes.group(4)\n",
    "\n",
    "hp = pokemon_attributes.group(5)\n",
    "\n",
    "attack = pokemon_attributes.group(6)\n",
    "\n",
    "defense = pokemon_attributes.group(7)\n",
    "\n",
    "speed = pokemon_attributes.group(8)"
   ]
  },
  {
   "cell_type": "code",
   "execution_count": 36,
   "id": "83d85a19-dcf8-4b4b-ba67-eab2e92fd12f",
   "metadata": {},
   "outputs": [
    {
     "name": "stdout",
     "output_type": "stream",
     "text": [
      "Name: Sceptile, Dex_id: 254, Type1: Grass, Type2: None, Hp: 70, Atk: 85, Def: 65, Spe: 120\n",
      "Name: Swampert, Dex_id: 260, Type1: Water, Type2: Ground, Hp: 100, Atk: 110, Def: 90, Spe: 60\n"
     ]
    }
   ],
   "source": [
    "#test to see which pokemon was choosen\n",
    "print(pokemon_p)\n",
    "print(pokemon_c)"
   ]
  }
 ],
 "metadata": {
  "kernelspec": {
   "display_name": "Python 3 (ipykernel)",
   "language": "python",
   "name": "python3"
  },
  "language_info": {
   "codemirror_mode": {
    "name": "ipython",
    "version": 3
   },
   "file_extension": ".py",
   "mimetype": "text/x-python",
   "name": "python",
   "nbconvert_exporter": "python",
   "pygments_lexer": "ipython3",
   "version": "3.9.10"
  }
 },
 "nbformat": 4,
 "nbformat_minor": 5
}
