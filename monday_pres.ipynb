{
 "cells": [
  {
   "cell_type": "markdown",
   "id": "0fcfa563-a5fd-4d21-855d-fd40fcb957cd",
   "metadata": {},
   "source": [
    "TEAM football\n",
    "\n",
    "INST326 (0101)\n",
    "\n",
    "Monday Project Presentation\n"
   ]
  },
  {
   "cell_type": "code",
   "execution_count": 36,
   "id": "36305e12-2b81-4506-bac6-deffe2d40adf",
   "metadata": {},
   "outputs": [],
   "source": [
    "import re\n",
    "import random\n",
    "regex = (r\"\"\"(?xm)\\n\n",
    "            ^\\n\n",
    "            (?P<dex_Id>[\\d+])\\n\n",
    "            , \\n\n",
    "            (?P<move_name>[\\w]+?[ \\w]+)\\n\n",
    "            ,\\n\n",
    "            (?P<type>[\\w]+)\\n\n",
    "            ,\\n\n",
    "            (?P<power>[\\d]+)\\n\n",
    "            ,\\n\n",
    "            (?P<accuracy>[\\d]+)\"\"\")\n",
    " "
   ]
  },
  {
   "cell_type": "code",
   "execution_count": 70,
   "id": "9cc24771-e869-4127-b9dd-9193925266ba",
   "metadata": {},
   "outputs": [
    {
     "ename": "TypeError",
     "evalue": "expected string or bytes-like object",
     "output_type": "error",
     "traceback": [
      "\u001b[0;31m---------------------------------------------------------------------------\u001b[0m",
      "\u001b[0;31mTypeError\u001b[0m                                 Traceback (most recent call last)",
      "\u001b[1;32m/Users/danielhernandez/Documents/UMD Spring 2022/INST 326/326FinalProject/monday_pres.ipynb Cell 3'\u001b[0m in \u001b[0;36m<cell line: 9>\u001b[0;34m()\u001b[0m\n\u001b[1;32m      <a href='vscode-notebook-cell:/Users/danielhernandez/Documents/UMD%20Spring%202022/INST%20326/326FinalProject/monday_pres.ipynb#ch0000002?line=5'>6</a>\u001b[0m     new_list \u001b[39m=\u001b[39m [(line\u001b[39m.\u001b[39mstrip(\u001b[39m\"\u001b[39m\u001b[39m\\n\u001b[39;00m\u001b[39m\"\u001b[39m)) \u001b[39mfor\u001b[39;00m line \u001b[39min\u001b[39;00m f]\n\u001b[1;32m      <a href='vscode-notebook-cell:/Users/danielhernandez/Documents/UMD%20Spring%202022/INST%20326/326FinalProject/monday_pres.ipynb#ch0000002?line=7'>8</a>\u001b[0m new_list[\u001b[39m1\u001b[39m]\n\u001b[0;32m----> <a href='vscode-notebook-cell:/Users/danielhernandez/Documents/UMD%20Spring%202022/INST%20326/326FinalProject/monday_pres.ipynb#ch0000002?line=8'>9</a>\u001b[0m moves_attributes \u001b[39m=\u001b[39m re\u001b[39m.\u001b[39;49msearch(regex, new_list)\n",
      "File \u001b[0;32m/Library/Developer/CommandLineTools/Library/Frameworks/Python3.framework/Versions/3.8/lib/python3.8/re.py:201\u001b[0m, in \u001b[0;36msearch\u001b[0;34m(pattern, string, flags)\u001b[0m\n\u001b[1;32m    <a href='file:///Library/Developer/CommandLineTools/Library/Frameworks/Python3.framework/Versions/3.8/lib/python3.8/re.py?line=197'>198</a>\u001b[0m \u001b[39mdef\u001b[39;00m \u001b[39msearch\u001b[39m(pattern, string, flags\u001b[39m=\u001b[39m\u001b[39m0\u001b[39m):\n\u001b[1;32m    <a href='file:///Library/Developer/CommandLineTools/Library/Frameworks/Python3.framework/Versions/3.8/lib/python3.8/re.py?line=198'>199</a>\u001b[0m     \u001b[39m\"\"\"Scan through string looking for a match to the pattern, returning\u001b[39;00m\n\u001b[1;32m    <a href='file:///Library/Developer/CommandLineTools/Library/Frameworks/Python3.framework/Versions/3.8/lib/python3.8/re.py?line=199'>200</a>\u001b[0m \u001b[39m    a Match object, or None if no match was found.\"\"\"\u001b[39;00m\n\u001b[0;32m--> <a href='file:///Library/Developer/CommandLineTools/Library/Frameworks/Python3.framework/Versions/3.8/lib/python3.8/re.py?line=200'>201</a>\u001b[0m     \u001b[39mreturn\u001b[39;00m _compile(pattern, flags)\u001b[39m.\u001b[39;49msearch(string)\n",
      "\u001b[0;31mTypeError\u001b[0m: expected string or bytes-like object"
     ]
    }
   ],
   "source": [
    "#pokemon file is read\n",
    "r = \"Pokemon_Moves.csv\"\n",
    "        \n",
    "new_list = []\n",
    "with open(r, \"r\", encoding=\"utf-8\") as f:   \n",
    "    new_list = [(line.strip(\"\\n\")) for line in f]\n",
    "\n",
    "new_list[1]\n"
   ]
  },
  {
   "cell_type": "code",
   "execution_count": 73,
   "id": "74ad50ef-0df6-461c-b17c-1fa0886acf1e",
   "metadata": {},
   "outputs": [
    {
     "ename": "ValueError",
     "evalue": "The address string could not be parsed.",
     "output_type": "error",
     "traceback": [
      "\u001b[0;31m---------------------------------------------------------------------------\u001b[0m",
      "\u001b[0;31mValueError\u001b[0m                                Traceback (most recent call last)",
      "\u001b[1;32m/Users/danielhernandez/Documents/UMD Spring 2022/INST 326/326FinalProject/monday_pres.ipynb Cell 4'\u001b[0m in \u001b[0;36m<cell line: 9>\u001b[0;34m()\u001b[0m\n\u001b[1;32m      <a href='vscode-notebook-cell:/Users/danielhernandez/Documents/UMD%20Spring%202022/INST%20326/326FinalProject/monday_pres.ipynb#ch0000004?line=8'>9</a>\u001b[0m \u001b[39mfor\u001b[39;00m i \u001b[39min\u001b[39;00m new_list:\n\u001b[1;32m     <a href='vscode-notebook-cell:/Users/danielhernandez/Documents/UMD%20Spring%202022/INST%20326/326FinalProject/monday_pres.ipynb#ch0000004?line=9'>10</a>\u001b[0m     \u001b[39mif\u001b[39;00m  moves_attributes \u001b[39m==\u001b[39m \u001b[39mNone\u001b[39;00m:\n\u001b[0;32m---> <a href='vscode-notebook-cell:/Users/danielhernandez/Documents/UMD%20Spring%202022/INST%20326/326FinalProject/monday_pres.ipynb#ch0000004?line=10'>11</a>\u001b[0m             \u001b[39mraise\u001b[39;00m \u001b[39mValueError\u001b[39;00m(\u001b[39m\"\u001b[39m\u001b[39mThe address string could not be parsed.\u001b[39m\u001b[39m\"\u001b[39m)\n\u001b[1;32m     <a href='vscode-notebook-cell:/Users/danielhernandez/Documents/UMD%20Spring%202022/INST%20326/326FinalProject/monday_pres.ipynb#ch0000004?line=11'>12</a>\u001b[0m     \u001b[39melse\u001b[39;00m:\n\u001b[1;32m     <a href='vscode-notebook-cell:/Users/danielhernandez/Documents/UMD%20Spring%202022/INST%20326/326FinalProject/monday_pres.ipynb#ch0000004?line=13'>14</a>\u001b[0m         dex_id \u001b[39m=\u001b[39m \u001b[39mint\u001b[39m(moves_attributes\u001b[39m.\u001b[39mgroup(\u001b[39m1\u001b[39m))\n",
      "\u001b[0;31mValueError\u001b[0m: The address string could not be parsed."
     ]
    }
   ],
   "source": [
    "#player chooses pokemon\n",
    "\n",
    "\n",
    "#assignments are made\n",
    "dic3 = {}\n",
    "dic6 = {}\n",
    "dic9 = {}\n",
    "moves_attributes = re.search(regex, str(new_list))\n",
    "for i in new_list:\n",
    "    if  moves_attributes == None:\n",
    "            raise ValueError(\"The address string could not be parsed.\")\n",
    "    else:\n",
    "        \n",
    "        dex_id = int(moves_attributes.group(1))\n",
    "\n",
    "        move = moves_attributes.group(2)\n",
    "\n",
    "        type = moves_attributes.group(3)\n",
    "\n",
    "        power = int(moves_attributes.group(4))\n",
    "\n",
    "        accuracy = int(moves_attributes.group(5))\n",
    "        \n",
    "        if dex_id == 3:\n",
    "            dic3[f\"{move}\"] = (type,power,accuracy)\n"
   ]
  },
  {
   "cell_type": "code",
   "execution_count": null,
   "id": "83d85a19-dcf8-4b4b-ba67-eab2e92fd12f",
   "metadata": {},
   "outputs": [
    {
     "name": "stdout",
     "output_type": "stream",
     "text": [
      "Name: Sceptile, Dex_id: 254, Type1: Grass, Type2: None, Hp: 70, Atk: 85, Def: 65, Spe: 120\n",
      "Name: Swampert, Dex_id: 260, Type1: Water, Type2: Ground, Hp: 100, Atk: 110, Def: 90, Spe: 60\n"
     ]
    }
   ],
   "source": [
    "#test to see which pokemon was choosen\n",
    "#print(pokemon_p)\n",
    "#print(pokemon_c)"
   ]
  }
 ],
 "metadata": {
  "kernelspec": {
   "display_name": "Python 3 (ipykernel)",
   "language": "python",
   "name": "python3"
  },
  "language_info": {
   "codemirror_mode": {
    "name": "ipython",
    "version": 3
   },
   "file_extension": ".py",
   "mimetype": "text/x-python",
   "name": "python",
   "nbconvert_exporter": "python",
   "pygments_lexer": "ipython3",
   "version": "3.8.9"
  }
 },
 "nbformat": 4,
 "nbformat_minor": 5
}
