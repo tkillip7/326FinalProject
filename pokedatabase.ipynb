{
 "cells": [
  {
   "cell_type": "code",
   "execution_count": 4,
   "id": "a9b6f2bb-a8f8-4563-8ac1-ea061b68c303",
   "metadata": {},
   "outputs": [],
   "source": [
    "import pandas as pd\n",
    "import matplotlib.pyplot as plt\n",
    "import numpy as np"
   ]
  },
  {
   "cell_type": "code",
   "execution_count": 23,
   "id": "1aaf4099-0044-4e13-abae-65fb03100d04",
   "metadata": {},
   "outputs": [],
   "source": [
    "df = pd.read_csv(\"Pokemons.csv\")\n",
    "stats = pd.read_csv(\"Pokemons.csv\")"
   ]
  },
  {
   "cell_type": "code",
   "execution_count": null,
   "id": "ce38b67d-7807-4fc6-a802-316fb8f5f6ab",
   "metadata": {},
   "outputs": [],
   "source": [
    "display_question = input(\"Would you like to see a visual of each pokemons stats? If so enter YES, if enter No\")\n",
    "if display_question == 'Yes':\n",
    "    print (\"Here are the HP values\", stats.plot.bar(x = \"Name\", y = \"HP\", color = 'r'))\n",
    "    print (\"Here are the Atk values\", stats.plot.bar(x = \"Name\", y = \"Atk\", colormap = 'Paired'))\n",
    "    print (\"Here are the Def values\", stats.plot.bar(x = \"Name\", y = \"Def\"))\n",
    "    print (\"Here are the Speed values\", stats.plot.bar(x = \"Name\", y = \"Spe\", color = 'y'))\n",
    "elif display_question == 'No':\n",
    "    pass\n",
    "else:\n",
    "    raise ValueError(\"Please enter 'Yes or 'No\")"
   ]
  },
  {
   "cell_type": "code",
   "execution_count": 8,
   "id": "4e676c84-1f0b-4938-8d98-8af622bbb080",
   "metadata": {},
   "outputs": [],
   "source": [
    "df2 = pd.read_csv(\"Pokemon_Moves.csv\")"
   ]
  },
  {
   "cell_type": "code",
   "execution_count": null,
   "id": "0070cbf8",
   "metadata": {},
   "outputs": [],
   "source": [
    "userinput = input(\"Which pokemons moves would you like to see? Enter 1,2 or 3 to see Venasaur,Charizard or Blastoise's moves\")\n",
    "if userinput == '1':\n",
    "     print (\"Venasaur's data:\\n\" ,df2.loc[[0,1,2,3]])\n",
    "elif userinput == '2':\n",
    "     print (\"Charizard's data: \\n\",df2.loc[[4,5,6,7]])\n",
    "elif userinput == '3':\n",
    "     print (\"Blastoise's data: \\n\",df2.loc[[8,9,10,11]])\n",
    "else:\n",
    "    raise ValueError(\"Please enter a value 1-3 to see the pokemons stats\")\n"
   ]
  }
 ],
 "metadata": {
  "kernelspec": {
   "display_name": "Python 3 (ipykernel)",
   "language": "python",
   "name": "python3"
  },
  "language_info": {
   "codemirror_mode": {
    "name": "ipython",
    "version": 3
   },
   "file_extension": ".py",
   "mimetype": "text/x-python",
   "name": "python",
   "nbconvert_exporter": "python",
   "pygments_lexer": "ipython3",
   "version": "3.9.10"
  }
 },
 "nbformat": 4,
 "nbformat_minor": 5
}
